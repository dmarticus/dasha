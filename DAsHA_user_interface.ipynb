{
 "cells": [
  {
   "cell_type": "code",
   "execution_count": 1,
   "metadata": {},
   "outputs": [],
   "source": [
    "import numpy as np\n",
    "import pandas as pd\n",
    "%matplotlib inline\n",
    "from scipy import stats\n",
    "import statsmodels.api as sm\n",
    "import matplotlib.pyplot as plt\n",
    "from statsmodels.distributions.mixture_rvs import mixture_rvs"
   ]
  },
  {
   "cell_type": "code",
   "execution_count": 2,
   "metadata": {},
   "outputs": [],
   "source": [
    "# import the csv file\n",
    "df = pd.read_csv('./prepared_data/2020_ffl_df.csv')\n",
    "\n",
    "# clean up the kde_icdf column\n",
    "for i in range(0,len(df)):\n",
    "    df['kde_icdf'][i] = df['kde_icdf'][i].replace('\\n',' ').replace('[','').replace(']','')\n",
    "    df['kde_icdf'][i] = [float(x) for x in df['kde_icdf'][i].split()]\n",
    "    \n",
    "# more data cleanup\n",
    "df['POS']=df['POS'].str.strip()\n",
    "\n",
    "# add drafted column to track drafted players\n",
    "df['drafted']=0"
   ]
  },
  {
   "cell_type": "code",
   "execution_count": 3,
   "metadata": {},
   "outputs": [],
   "source": [
    "def compare_best_players(positions):\n",
    "    # identify best players per position\n",
    "    best_players = []\n",
    "    j = 0\n",
    "    for j in range(0, len(positions)):\n",
    "        k = 0\n",
    "        for k in range(0, len(df)):\n",
    "            if df['drafted'][k] == 1:\n",
    "                k += 1\n",
    "            if df['drafted'][k] == 0:\n",
    "                if df['POS'][k] == positions[j]:\n",
    "                    if len(best_players) > j:\n",
    "                        if df['pts'][k] > best_players[j][2]:\n",
    "                            best_players[j] = [df['POS'][k], df['Name'][k], df['pts'][k], df['Draft Position'][k]]\n",
    "                            k += 1\n",
    "                        if df['pts'][k] <= best_players[j][2]:\n",
    "                            k += 1\n",
    "                    if len(best_players)<=j:\n",
    "                        best_players.append([df['POS'][k], df['Name'][k], df['pts'][k],df['Draft Position'][k]])\n",
    "                        k += 1\n",
    "\n",
    "    return best_players"
   ]
  },
  {
   "cell_type": "code",
   "execution_count": null,
   "metadata": {},
   "outputs": [],
   "source": [
    "def compare_best_players_next_round(positions, next_available_pick):\n",
    "    # identify best choice in next round at each position                \n",
    "    best_players_next_round = []\n",
    "    j = 0\n",
    "    for j in range(0, len(positions)):\n",
    "        k = 0\n",
    "        for k in range(0, len(df)):\n",
    "            if df['drafted'][k] == 1:\n",
    "                k += 1\n",
    "            if df['drafted'][k] == 0:\n",
    "                if df['POS'][k] == positions[j]:\n",
    "                    if len(best_players_next_round) > j:\n",
    "                        if df['Draft Position'][k] < next_available_pick:\n",
    "                            k += 1\n",
    "                        else:\n",
    "                            if df['pts'][k] > best_players_next_round[j][2]:\n",
    "                                best_players_next_round[j] = [df['POS'][k], df['Name'][k], df['pts'][k], df['Draft Position'][k]]\n",
    "                                k += 1\n",
    "                            if df['pts'][k] <= best_players_next_round[j][2]:\n",
    "                                k += 1\n",
    "                    if len(best_players_next_round) <= j:\n",
    "                        if df['Draft Position'][k] < next_available_pick:\n",
    "                            k += 1\n",
    "                        else:\n",
    "                            best_players_next_round.append([df['POS'][k], df['Name'][k], df['pts'][k], df['Draft Position'][k]])\n",
    "                            k += 1\n",
    "\n",
    "    return best_players_next_round"
   ]
  },
  {
   "cell_type": "code",
   "execution_count": 4,
   "metadata": {},
   "outputs": [],
   "source": [
    "def compare_second_best_players(positions, best_players):\n",
    "    # loop to collect second-best choices for each round\n",
    "    second_best_players = []\n",
    "    j = 0\n",
    "    for j in range(0,len(positions)):\n",
    "        k = 0\n",
    "        for k in range(0,len(df)):\n",
    "            if df['drafted'][k] == 1:\n",
    "                k += 1\n",
    "            if df['drafted'][k] == 0:\n",
    "                if df['POS'][k] == positions[j]:\n",
    "                    if len(second_best_players) > j:\n",
    "                        if df['Name'][k] == best_players[j][1]:\n",
    "                            k += 1\n",
    "                        else:\n",
    "                            if df['pts'][k] > second_best_players[j][2]:\n",
    "                                second_best_players[j]=[df['POS'][k], df['Name'][k], df['pts'][k], df['Draft Position'][k]]\n",
    "                                k += 1\n",
    "                            if df['pts'][k] <= second_best_players[j][2]:\n",
    "                                k += 1\n",
    "                    if len(second_best_players) <= j:\n",
    "                        if df['Name'][k] == best_players[j][1]:\n",
    "                            k += 1\n",
    "                        else:\n",
    "                            second_best_players.append([df['POS'][k], df['Name'][k], df['pts'][k], df['Draft Position'][k]])\n",
    "                            k += 1 "
   ]
  },
  {
   "cell_type": "code",
   "execution_count": 8,
   "metadata": {},
   "outputs": [],
   "source": [
    "def DAsHa_prgm(turns_to_next_pick):\n",
    "    # to find current draft number\n",
    "    current_draft_number = 0\n",
    "    i = 0\n",
    "    while current_draft_number == 0:\n",
    "        if df['drafted'][i] == 1:\n",
    "            i += 1\n",
    "        else:\n",
    "            current_draft_number = df['Draft Position'][i]\n",
    "\n",
    "    # threshold for next available picks\n",
    "    next_available_pick = current_draft_number + turns_to_next_pick\n",
    "\n",
    "    # List of possible positions to draft for\n",
    "    positions = ['QB','RB','WR','TE','K','DEF']\n",
    "\n",
    "    # identify best choices at each position\n",
    "    best_players = compare_best_players(positions)\n",
    "\n",
    "    # identify best choice in next round at each position                \n",
    "    best_players_next_round = compare_best_players_next_round(positions, next_available_pick)\n",
    "\n",
    "    # collect the second-best choices for each round\n",
    "    second_best_players = compare_second_best_players(positions, best_players)\n",
    "\n",
    "    # make marginal comparison and append to best_players list\n",
    "    for j in range(0,len(positions)):\n",
    "        marg = best_players[j][2] - best_players_next_round[j][2]\n",
    "        best_players[j].append(marg)\n",
    "\n",
    "    # print recommendation menu\n",
    "    for i in range(0,len(positions)):\n",
    "        print(f\"{best_players[i][0]:{5}} - {best_players[i][1]:{20}} - {round(best_players[i][2],2):{6}}, margin: {round(best_players[i][4],2)}\")\n",
    "\n",
    "    # find top two second-best\n",
    "    top_seconds = [second_best_players[0][2], second_best_players[1][2], second_best_players[2][2], second_best_players[3][2], second_best_players[4][2], second_best_players[5][2],]\n",
    "\n",
    "    # finding index values (based off Yahoo! draft position) to call the boxplots\n",
    "    DEF = best_players[0][3] - 1\n",
    "    K = best_players[1][3] - 1\n",
    "    TE = best_players[2][3] - 1\n",
    "    WR = best_players[3][3] - 1\n",
    "    RB = best_players[4][3] - 1\n",
    "    QB = best_players[5][3] - 1\n",
    "\n",
    "    # boxplots of recs\n",
    "    box_plot_data=[df['kde_icdf'][QB], df['kde_icdf'][RB], df['kde_icdf'][WR], df['kde_icdf'][TE], df['kde_icdf'][K], df['kde_icdf'][DEF]]\n",
    "    plt.boxplot(box_plot_data, vert=False, labels=[df['Name'][QB], df['Name'][RB], df['Name'][WR], df['Name'][TE], df['Name'][K], df['Name'][DEF] ])\n",
    "    plt.show()\n",
    "\n",
    "    # find top two second-best\n",
    "    top_seconds = [second_best_players[0][2], second_best_players[1][2], second_best_players[2][2], second_best_players[3][2],second_best_players[4][2],second_best_players[5][2],]\n",
    "    first_comparison = top_seconds.index(max(top_seconds))\n",
    "    top_seconds[first_comparison] = 0\n",
    "    second_comparison = top_seconds.index(max(top_seconds))\n",
    "\n",
    "    # boxplots of second best\n",
    "    first_best_first = best_players[first_comparison][3] - 1\n",
    "    second_best_first = second_best_players[first_comparison][3] - 1\n",
    "    first_best_second = best_players[second_comparison][3] - 1\n",
    "    second_best_second = second_best_players[second_comparison][3] - 1\n",
    "\n",
    "    box_plot_data=[df['kde_icdf'][second_best_first], df['kde_icdf'][first_best_first]]\n",
    "    plt.boxplot(box_plot_data, vert=False, labels=[df['Name'][second_best_first], df['Name'][first_best_first]])\n",
    "    plt.show()\n",
    "\n",
    "    box_plot_data=[df['kde_icdf'][], df['kde_icdf'][first_best_second]]\n",
    "    plt.boxplot(box_plot_data, vert=False, labels=[df['Name'][], df['Name'][first_best_second]])\n",
    "    plt.show()"
   ]
  },
  {
   "cell_type": "code",
   "execution_count": 9,
   "metadata": {},
   "outputs": [],
   "source": [
    "### This is the user-interace: enter the picked players until it's your turn. Then, enter \"DAsHA_prgm(# of rounds to your next pick)\" in the cell below.\n"
   ]
  },
  {
   "cell_type": "code",
   "execution_count": 6,
   "metadata": {
    "scrolled": true
   },
   "outputs": [],
   "source": [
    "your_turn = False\n",
    "while your_turn == False:\n",
    "    new_draft = input('Who was the last pick?')\n",
    "    if new_draft != '':\n",
    "        temp_index = df['Name'].str.find(str(new_draft.strip()))\n",
    "        temp_no = temp_index.values.argmax()\n",
    "        df['drafted'][temp_no] = 1\n",
    "        new_draft = ''\n",
    "    your_turn_input = input('Is it your turn?')\n",
    "    no_set = {'no', 'n', 'N', 'No'}   \n",
    "    if your_turn_input in no_set: \n",
    "        your_turn = False\n",
    "    else:\n",
    "        your_turn = True\n"
   ]
  },
  {
   "cell_type": "code",
   "execution_count": 10,
   "metadata": {
    "scrolled": true,
    "tags": []
   },
   "outputs": [
    {
     "output_type": "error",
     "ename": "UnboundLocalError",
     "evalue": "local variable 'current_draft_number' referenced before assignment",
     "traceback": [
      "\u001b[0;31m---------------------------------------------------------------------------\u001b[0m",
      "\u001b[0;31mUnboundLocalError\u001b[0m                         Traceback (most recent call last)",
      "\u001b[0;32m<ipython-input-10-2d52685005d9>\u001b[0m in \u001b[0;36m<module>\u001b[0;34m\u001b[0m\n\u001b[0;32m----> 1\u001b[0;31m \u001b[0mDAsHa_prgm\u001b[0m\u001b[0;34m(\u001b[0m\u001b[0;36m15\u001b[0m\u001b[0;34m)\u001b[0m\u001b[0;34m\u001b[0m\u001b[0;34m\u001b[0m\u001b[0m\n\u001b[0m",
      "\u001b[0;32m<ipython-input-8-da71d6ba9d1c>\u001b[0m in \u001b[0;36mDAsHa_prgm\u001b[0;34m(turns_to_next_pick)\u001b[0m\n\u001b[1;32m      2\u001b[0m     \u001b[0;31m# get the current draft number\u001b[0m\u001b[0;34m\u001b[0m\u001b[0;34m\u001b[0m\u001b[0;34m\u001b[0m\u001b[0m\n\u001b[1;32m      3\u001b[0m     \u001b[0mi\u001b[0m \u001b[0;34m=\u001b[0m \u001b[0;36m0\u001b[0m\u001b[0;34m\u001b[0m\u001b[0;34m\u001b[0m\u001b[0m\n\u001b[0;32m----> 4\u001b[0;31m     \u001b[0;32mwhile\u001b[0m \u001b[0mcurrent_draft_number\u001b[0m \u001b[0;34m==\u001b[0m \u001b[0;36m0\u001b[0m\u001b[0;34m:\u001b[0m\u001b[0;34m\u001b[0m\u001b[0;34m\u001b[0m\u001b[0m\n\u001b[0m\u001b[1;32m      5\u001b[0m         \u001b[0;32mif\u001b[0m \u001b[0mdf\u001b[0m\u001b[0;34m[\u001b[0m\u001b[0;34m'drafted'\u001b[0m\u001b[0;34m]\u001b[0m\u001b[0;34m[\u001b[0m\u001b[0mi\u001b[0m\u001b[0;34m]\u001b[0m \u001b[0;34m==\u001b[0m \u001b[0;36m1\u001b[0m\u001b[0;34m:\u001b[0m\u001b[0;34m\u001b[0m\u001b[0;34m\u001b[0m\u001b[0m\n\u001b[1;32m      6\u001b[0m             \u001b[0mi\u001b[0m \u001b[0;34m+=\u001b[0m \u001b[0;36m1\u001b[0m\u001b[0;34m\u001b[0m\u001b[0;34m\u001b[0m\u001b[0m\n",
      "\u001b[0;31mUnboundLocalError\u001b[0m: local variable 'current_draft_number' referenced before assignment"
     ]
    }
   ],
   "source": [
    "DAsHa_prgm(14)"
   ]
  },
  {
   "cell_type": "code",
   "execution_count": null,
   "metadata": {},
   "outputs": [],
   "source": []
  }
 ],
 "metadata": {
  "kernelspec": {
   "name": "python3",
   "display_name": "Python 3.8.5 64-bit",
   "metadata": {
    "interpreter": {
     "hash": "aee8b7b246df8f9039afb4144a1f6fd8d2ca17a180786b69acc140d282b71a49"
    }
   }
  },
  "language_info": {
   "codemirror_mode": {
    "name": "ipython",
    "version": 3
   },
   "file_extension": ".py",
   "mimetype": "text/x-python",
   "name": "python",
   "nbconvert_exporter": "python",
   "pygments_lexer": "ipython3",
   "version": "3.8.5-final"
  }
 },
 "nbformat": 4,
 "nbformat_minor": 2
}